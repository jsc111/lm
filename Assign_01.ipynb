{
  "cells": [
    {
      "cell_type": "code",
      "execution_count": null,
      "id": "87cf53fb-b568-4994-9a75-63b4a77b48d2",
      "metadata": {
        "id": "87cf53fb-b568-4994-9a75-63b4a77b48d2"
      },
      "outputs": [],
      "source": [
        "import pandas as pd"
      ]
    },
    {
      "cell_type": "code",
      "execution_count": null,
      "id": "aad4abbb-b3c8-4e58-9e99-bdc35c7fd8ba",
      "metadata": {
        "id": "aad4abbb-b3c8-4e58-9e99-bdc35c7fd8ba"
      },
      "outputs": [],
      "source": [
        "df=pd.read_csv('/content/student_marksheet.csv')"
      ]
    },
    {
      "cell_type": "code",
      "execution_count": null,
      "id": "2100c7a9-82b9-48f0-b2e9-0896e6b7eec0",
      "metadata": {
        "id": "2100c7a9-82b9-48f0-b2e9-0896e6b7eec0",
        "outputId": "02b2c6df-17b6-427b-b20a-827757f46011",
        "colab": {
          "base_uri": "https://localhost:8080/"
        }
      },
      "outputs": [
        {
          "output_type": "stream",
          "name": "stdout",
          "text": [
            "        Name         PRN  Roll No  Subject1 Marks  Subject2 Marks  \\\n",
            "0  Student 1  1032233101        1              71              76   \n",
            "1  Student 2  1032233102        2              72              77   \n",
            "2  Student 3  1032233103        3              73              78   \n",
            "3  Student 4  1032233104        4              74              79   \n",
            "4  Student 5  1032233105        5              75              80   \n",
            "\n",
            "   Subject3 Marks  Subject4 Marks  Total Marks  \n",
            "0              81              86          314  \n",
            "1              82              87          318  \n",
            "2              83              88          322  \n",
            "3              84              89          326  \n",
            "4              85              90          330  \n"
          ]
        }
      ],
      "source": [
        "print(df.head(5))"
      ]
    },
    {
      "cell_type": "code",
      "execution_count": null,
      "id": "6eb2c093-7f7d-4d1b-aa1c-249fdf9ac265",
      "metadata": {
        "id": "6eb2c093-7f7d-4d1b-aa1c-249fdf9ac265",
        "outputId": "218d4517-3966-4687-9eb6-629d7ccbac62",
        "colab": {
          "base_uri": "https://localhost:8080/"
        }
      },
      "outputs": [
        {
          "output_type": "stream",
          "name": "stdout",
          "text": [
            "          Name         PRN  Roll No  Subject1 Marks  Subject2 Marks  \\\n",
            "20  Student 21  1032233121       21              71              76   \n",
            "21  Student 22  1032233122       22              72              77   \n",
            "22  Student 23  1032233123       23              73              78   \n",
            "23  Student 24  1032233124       24              74              79   \n",
            "24  Student 25  1032233125       25              75              80   \n",
            "\n",
            "    Subject3 Marks  Subject4 Marks  Total Marks  \n",
            "20              81              86          314  \n",
            "21              82              87          318  \n",
            "22              83              88          322  \n",
            "23              84              89          326  \n",
            "24              85              90          330  \n"
          ]
        }
      ],
      "source": [
        "print(df.tail(5))"
      ]
    },
    {
      "cell_type": "code",
      "execution_count": null,
      "id": "4c799b8c-03c3-4f1c-bdab-635886246559",
      "metadata": {
        "id": "4c799b8c-03c3-4f1c-bdab-635886246559",
        "outputId": "b56d9d51-80e3-49fc-8d9b-23f92b93df68",
        "colab": {
          "base_uri": "https://localhost:8080/"
        }
      },
      "outputs": [
        {
          "output_type": "stream",
          "name": "stdout",
          "text": [
            "(25, 8)\n"
          ]
        }
      ],
      "source": [
        "print(df.shape)"
      ]
    },
    {
      "cell_type": "code",
      "execution_count": null,
      "id": "85f42fb3-5bb3-4bba-a5a2-db1c84f16bd7",
      "metadata": {
        "id": "85f42fb3-5bb3-4bba-a5a2-db1c84f16bd7",
        "outputId": "4303ae14-1735-49df-8fa2-e32a71e567f3",
        "colab": {
          "base_uri": "https://localhost:8080/"
        }
      },
      "outputs": [
        {
          "output_type": "stream",
          "name": "stdout",
          "text": [
            "<class 'pandas.core.frame.DataFrame'>\n",
            "RangeIndex: 25 entries, 0 to 24\n",
            "Data columns (total 8 columns):\n",
            " #   Column          Non-Null Count  Dtype \n",
            "---  ------          --------------  ----- \n",
            " 0   Name            25 non-null     object\n",
            " 1   PRN             25 non-null     int64 \n",
            " 2   Roll No         25 non-null     int64 \n",
            " 3   Subject1 Marks  25 non-null     int64 \n",
            " 4   Subject2 Marks  25 non-null     int64 \n",
            " 5   Subject3 Marks  25 non-null     int64 \n",
            " 6   Subject4 Marks  25 non-null     int64 \n",
            " 7   Total Marks     25 non-null     int64 \n",
            "dtypes: int64(7), object(1)\n",
            "memory usage: 1.7+ KB\n",
            "None\n"
          ]
        }
      ],
      "source": [
        "print(df.info())"
      ]
    },
    {
      "cell_type": "code",
      "execution_count": null,
      "id": "7baa3d67-c0a4-43ba-8eda-2eb051ddbaa7",
      "metadata": {
        "id": "7baa3d67-c0a4-43ba-8eda-2eb051ddbaa7",
        "outputId": "e6f3d1aa-2290-43ac-e23d-503dba4a7755",
        "colab": {
          "base_uri": "https://localhost:8080/"
        }
      },
      "outputs": [
        {
          "output_type": "stream",
          "name": "stdout",
          "text": [
            "                PRN    Roll No  Subject1 Marks  Subject2 Marks  \\\n",
            "count  2.500000e+01  25.000000       25.000000       25.000000   \n",
            "mean   1.032233e+09  13.000000       74.200000       79.200000   \n",
            "std    7.359801e+00   7.359801        2.768875        2.768875   \n",
            "min    1.032233e+09   1.000000       70.000000       75.000000   \n",
            "25%    1.032233e+09   7.000000       72.000000       77.000000   \n",
            "50%    1.032233e+09  13.000000       74.000000       79.000000   \n",
            "75%    1.032233e+09  19.000000       76.000000       81.000000   \n",
            "max    1.032233e+09  25.000000       79.000000       84.000000   \n",
            "\n",
            "       Subject3 Marks  Subject4 Marks  Total Marks  \n",
            "count       25.000000       25.000000    25.000000  \n",
            "mean        84.200000       89.200000   326.800000  \n",
            "std          2.768875        2.768875    11.075498  \n",
            "min         80.000000       85.000000   310.000000  \n",
            "25%         82.000000       87.000000   318.000000  \n",
            "50%         84.000000       89.000000   326.000000  \n",
            "75%         86.000000       91.000000   334.000000  \n",
            "max         89.000000       94.000000   346.000000  \n"
          ]
        }
      ],
      "source": [
        "print(df.describe())"
      ]
    },
    {
      "cell_type": "code",
      "execution_count": null,
      "id": "ae26fdf9-97e9-4785-b240-65ea90ba8168",
      "metadata": {
        "id": "ae26fdf9-97e9-4785-b240-65ea90ba8168",
        "outputId": "8dd5175c-47b7-4d85-d9a9-c81e3e149406",
        "colab": {
          "base_uri": "https://localhost:8080/"
        }
      },
      "outputs": [
        {
          "output_type": "stream",
          "name": "stdout",
          "text": [
            "             Name           PRN    Roll No  Subject1 Marks  Subject2 Marks  \\\n",
            "count          25  2.500000e+01  25.000000       25.000000       25.000000   \n",
            "unique         25           NaN        NaN             NaN             NaN   \n",
            "top     Student 1           NaN        NaN             NaN             NaN   \n",
            "freq            1           NaN        NaN             NaN             NaN   \n",
            "mean          NaN  1.032233e+09  13.000000       74.200000       79.200000   \n",
            "std           NaN  7.359801e+00   7.359801        2.768875        2.768875   \n",
            "min           NaN  1.032233e+09   1.000000       70.000000       75.000000   \n",
            "25%           NaN  1.032233e+09   7.000000       72.000000       77.000000   \n",
            "50%           NaN  1.032233e+09  13.000000       74.000000       79.000000   \n",
            "75%           NaN  1.032233e+09  19.000000       76.000000       81.000000   \n",
            "max           NaN  1.032233e+09  25.000000       79.000000       84.000000   \n",
            "\n",
            "        Subject3 Marks  Subject4 Marks  Total Marks  \n",
            "count        25.000000       25.000000    25.000000  \n",
            "unique             NaN             NaN          NaN  \n",
            "top                NaN             NaN          NaN  \n",
            "freq               NaN             NaN          NaN  \n",
            "mean         84.200000       89.200000   326.800000  \n",
            "std           2.768875        2.768875    11.075498  \n",
            "min          80.000000       85.000000   310.000000  \n",
            "25%          82.000000       87.000000   318.000000  \n",
            "50%          84.000000       89.000000   326.000000  \n",
            "75%          86.000000       91.000000   334.000000  \n",
            "max          89.000000       94.000000   346.000000  \n"
          ]
        }
      ],
      "source": [
        "print(df.describe(include='all'))"
      ]
    },
    {
      "cell_type": "code",
      "execution_count": null,
      "id": "2d8aebc3-5294-48f9-8e4b-33c4c9fd8d77",
      "metadata": {
        "id": "2d8aebc3-5294-48f9-8e4b-33c4c9fd8d77",
        "outputId": "de20219d-06cc-42af-cbf5-bc29ea1e0a95",
        "colab": {
          "base_uri": "https://localhost:8080/"
        }
      },
      "outputs": [
        {
          "output_type": "stream",
          "name": "stdout",
          "text": [
            "Index(['Name', 'PRN', 'Roll No', 'Subject1 Marks', 'Subject2 Marks',\n",
            "       'Subject3 Marks', 'Subject4 Marks', 'Total Marks'],\n",
            "      dtype='object')\n"
          ]
        }
      ],
      "source": [
        "print(df.columns)"
      ]
    },
    {
      "cell_type": "code",
      "execution_count": null,
      "id": "f70b1464-bda3-4700-98aa-ebb4467640cb",
      "metadata": {
        "id": "f70b1464-bda3-4700-98aa-ebb4467640cb",
        "outputId": "f594ed85-f0ed-494f-bff0-0f84d1111b3a",
        "colab": {
          "base_uri": "https://localhost:8080/"
        }
      },
      "outputs": [
        {
          "output_type": "stream",
          "name": "stdout",
          "text": [
            "Name              0\n",
            "PRN               0\n",
            "Roll No           0\n",
            "Subject1 Marks    0\n",
            "Subject2 Marks    0\n",
            "Subject3 Marks    0\n",
            "Subject4 Marks    0\n",
            "Total Marks       0\n",
            "dtype: int64\n"
          ]
        }
      ],
      "source": [
        "print(df.isnull().sum())"
      ]
    },
    {
      "cell_type": "code",
      "execution_count": null,
      "id": "33abdafb-74c4-4177-acb9-f723fc8f2ccf",
      "metadata": {
        "id": "33abdafb-74c4-4177-acb9-f723fc8f2ccf",
        "outputId": "f3546fb8-301d-4a9d-bbb6-88f4f7a751ea",
        "colab": {
          "base_uri": "https://localhost:8080/"
        }
      },
      "outputs": [
        {
          "output_type": "stream",
          "name": "stdout",
          "text": [
            "         Name    PRN Roll No Subject1 Marks Subject2 Marks Subject3 Marks  \\\n",
            "count      25     25      25             25             25             25   \n",
            "unique      1      1       1              1              1              1   \n",
            "top     False  False   False          False          False          False   \n",
            "freq       25     25      25             25             25             25   \n",
            "\n",
            "       Subject4 Marks Total Marks  \n",
            "count              25          25  \n",
            "unique              1           1  \n",
            "top             False       False  \n",
            "freq               25          25  \n"
          ]
        }
      ],
      "source": [
        "print(df.isnull().describe())"
      ]
    },
    {
      "cell_type": "code",
      "execution_count": null,
      "id": "05676c59-e830-426e-97b6-39516f8f4543",
      "metadata": {
        "id": "05676c59-e830-426e-97b6-39516f8f4543",
        "outputId": "4f77cbf1-b434-4c16-e4a8-54883bcb3994",
        "colab": {
          "base_uri": "https://localhost:8080/"
        }
      },
      "outputs": [
        {
          "output_type": "stream",
          "name": "stdout",
          "text": [
            "\n",
            "Dataset after removing duplicates:\n",
            "          Name         PRN  Roll No  Subject1 Marks  Subject2 Marks  \\\n",
            "0    Student 1  1032233101        1              71              76   \n",
            "1    Student 2  1032233102        2              72              77   \n",
            "2    Student 3  1032233103        3              73              78   \n",
            "3    Student 4  1032233104        4              74              79   \n",
            "4    Student 5  1032233105        5              75              80   \n",
            "5    Student 6  1032233106        6              76              81   \n",
            "6    Student 7  1032233107        7              77              82   \n",
            "7    Student 8  1032233108        8              78              83   \n",
            "8    Student 9  1032233109        9              79              84   \n",
            "9   Student 10  1032233110       10              70              75   \n",
            "10  Student 11  1032233111       11              71              76   \n",
            "11  Student 12  1032233112       12              72              77   \n",
            "12  Student 13  1032233113       13              73              78   \n",
            "13  Student 14  1032233114       14              74              79   \n",
            "14  Student 15  1032233115       15              75              80   \n",
            "15  Student 16  1032233116       16              76              81   \n",
            "16  Student 17  1032233117       17              77              82   \n",
            "17  Student 18  1032233118       18              78              83   \n",
            "18  Student 19  1032233119       19              79              84   \n",
            "19  Student 20  1032233120       20              70              75   \n",
            "20  Student 21  1032233121       21              71              76   \n",
            "21  Student 22  1032233122       22              72              77   \n",
            "22  Student 23  1032233123       23              73              78   \n",
            "23  Student 24  1032233124       24              74              79   \n",
            "24  Student 25  1032233125       25              75              80   \n",
            "\n",
            "    Subject3 Marks  Subject4 Marks  Total Marks  \n",
            "0               81              86          314  \n",
            "1               82              87          318  \n",
            "2               83              88          322  \n",
            "3               84              89          326  \n",
            "4               85              90          330  \n",
            "5               86              91          334  \n",
            "6               87              92          338  \n",
            "7               88              93          342  \n",
            "8               89              94          346  \n",
            "9               80              85          310  \n",
            "10              81              86          314  \n",
            "11              82              87          318  \n",
            "12              83              88          322  \n",
            "13              84              89          326  \n",
            "14              85              90          330  \n",
            "15              86              91          334  \n",
            "16              87              92          338  \n",
            "17              88              93          342  \n",
            "18              89              94          346  \n",
            "19              80              85          310  \n",
            "20              81              86          314  \n",
            "21              82              87          318  \n",
            "22              83              88          322  \n",
            "23              84              89          326  \n",
            "24              85              90          330  \n"
          ]
        }
      ],
      "source": [
        "df = df.drop_duplicates()\n",
        "print(\"\\nDataset after removing duplicates:\")\n",
        "print(df)"
      ]
    },
    {
      "cell_type": "code",
      "execution_count": null,
      "id": "0f1cf653-77df-4353-a579-361e548b5327",
      "metadata": {
        "id": "0f1cf653-77df-4353-a579-361e548b5327",
        "outputId": "1b9a0820-468f-4901-bdb2-1be87b596445",
        "colab": {
          "base_uri": "https://localhost:8080/"
        }
      },
      "outputs": [
        {
          "output_type": "stream",
          "name": "stdout",
          "text": [
            "Name              0\n",
            "PRN               0\n",
            "Roll No           0\n",
            "Subject1 Marks    0\n",
            "Subject2 Marks    0\n",
            "Subject3 Marks    0\n",
            "Subject4 Marks    0\n",
            "Total Marks       0\n",
            "dtype: int64\n"
          ]
        }
      ],
      "source": [
        "print(df.isnull().sum())"
      ]
    },
    {
      "cell_type": "raw",
      "id": "cb2ca90e-7b66-4d2e-98cd-25e4cc5a9f0d",
      "metadata": {
        "id": "cb2ca90e-7b66-4d2e-98cd-25e4cc5a9f0d"
      },
      "source": [
        "# Replace missing values with meaningful values"
      ]
    },
    {
      "cell_type": "code",
      "execution_count": null,
      "id": "cfe16b0f-62a3-451e-9528-4575daf50ee1",
      "metadata": {
        "id": "cfe16b0f-62a3-451e-9528-4575daf50ee1",
        "outputId": "fd4c2318-6879-4968-80a1-05c6f2a85d71",
        "colab": {
          "base_uri": "https://localhost:8080/"
        }
      },
      "outputs": [
        {
          "output_type": "stream",
          "name": "stdout",
          "text": [
            "\n",
            "Dataset after replacing missing values:\n",
            "          Name         PRN  Roll No  Subject1 Marks  Subject2 Marks  \\\n",
            "0    Student 1  1032233101        1              71              76   \n",
            "1    Student 2  1032233102        2              72              77   \n",
            "2    Student 3  1032233103        3              73              78   \n",
            "3    Student 4  1032233104        4              74              79   \n",
            "4    Student 5  1032233105        5              75              80   \n",
            "5    Student 6  1032233106        6              76              81   \n",
            "6    Student 7  1032233107        7              77              82   \n",
            "7    Student 8  1032233108        8              78              83   \n",
            "8    Student 9  1032233109        9              79              84   \n",
            "9   Student 10  1032233110       10              70              75   \n",
            "10  Student 11  1032233111       11              71              76   \n",
            "11  Student 12  1032233112       12              72              77   \n",
            "12  Student 13  1032233113       13              73              78   \n",
            "13  Student 14  1032233114       14              74              79   \n",
            "14  Student 15  1032233115       15              75              80   \n",
            "15  Student 16  1032233116       16              76              81   \n",
            "16  Student 17  1032233117       17              77              82   \n",
            "17  Student 18  1032233118       18              78              83   \n",
            "18  Student 19  1032233119       19              79              84   \n",
            "19  Student 20  1032233120       20              70              75   \n",
            "20  Student 21  1032233121       21              71              76   \n",
            "21  Student 22  1032233122       22              72              77   \n",
            "22  Student 23  1032233123       23              73              78   \n",
            "23  Student 24  1032233124       24              74              79   \n",
            "24  Student 25  1032233125       25              75              80   \n",
            "\n",
            "    Subject3 Marks  Subject4 Marks  Total Marks  \n",
            "0               81              86          314  \n",
            "1               82              87          318  \n",
            "2               83              88          322  \n",
            "3               84              89          326  \n",
            "4               85              90          330  \n",
            "5               86              91          334  \n",
            "6               87              92          338  \n",
            "7               88              93          342  \n",
            "8               89              94          346  \n",
            "9               80              85          310  \n",
            "10              81              86          314  \n",
            "11              82              87          318  \n",
            "12              83              88          322  \n",
            "13              84              89          326  \n",
            "14              85              90          330  \n",
            "15              86              91          334  \n",
            "16              87              92          338  \n",
            "17              88              93          342  \n",
            "18              89              94          346  \n",
            "19              80              85          310  \n",
            "20              81              86          314  \n",
            "21              82              87          318  \n",
            "22              83              88          322  \n",
            "23              84              89          326  \n",
            "24              85              90          330  \n"
          ]
        }
      ],
      "source": [
        "df.fillna({\n",
        "    col: df[col].mean() if df[col].dtype != 'object' else 'Unknown'\n",
        "    for col in df.columns\n",
        "}, inplace=True)\n",
        "\n",
        "print(\"\\nDataset after replacing missing values:\")\n",
        "print(df)"
      ]
    },
    {
      "cell_type": "code",
      "execution_count": null,
      "id": "128c1f42-0879-455c-9f7f-e708b6694733",
      "metadata": {
        "id": "128c1f42-0879-455c-9f7f-e708b6694733",
        "outputId": "a402eeb9-6bbb-49b4-ea39-fa23620a079b",
        "colab": {
          "base_uri": "https://localhost:8080/"
        }
      },
      "outputs": [
        {
          "output_type": "stream",
          "name": "stdout",
          "text": [
            "                PRN    Roll No  Subject1 Marks  Subject2 Marks  \\\n",
            "count  2.500000e+01  25.000000       25.000000       25.000000   \n",
            "mean   1.032233e+09  13.000000       74.200000       79.200000   \n",
            "std    7.359801e+00   7.359801        2.768875        2.768875   \n",
            "min    1.032233e+09   1.000000       70.000000       75.000000   \n",
            "25%    1.032233e+09   7.000000       72.000000       77.000000   \n",
            "50%    1.032233e+09  13.000000       74.000000       79.000000   \n",
            "75%    1.032233e+09  19.000000       76.000000       81.000000   \n",
            "max    1.032233e+09  25.000000       79.000000       84.000000   \n",
            "\n",
            "       Subject3 Marks  Subject4 Marks  Total Marks  \n",
            "count       25.000000       25.000000    25.000000  \n",
            "mean        84.200000       89.200000   326.800000  \n",
            "std          2.768875        2.768875    11.075498  \n",
            "min         80.000000       85.000000   310.000000  \n",
            "25%         82.000000       87.000000   318.000000  \n",
            "50%         84.000000       89.000000   326.000000  \n",
            "75%         86.000000       91.000000   334.000000  \n",
            "max         89.000000       94.000000   346.000000  \n"
          ]
        }
      ],
      "source": [
        "# Statistical Summary:\n",
        "print(df.describe())"
      ]
    },
    {
      "cell_type": "code",
      "execution_count": null,
      "id": "09a80b5b-f336-4324-a023-985a03684f29",
      "metadata": {
        "id": "09a80b5b-f336-4324-a023-985a03684f29"
      },
      "outputs": [],
      "source": [
        "# Data Encoding\n",
        "from sklearn.preprocessing import LabelEncoder"
      ]
    },
    {
      "cell_type": "code",
      "execution_count": null,
      "id": "8071e4a9-1fcf-4f30-a1aa-52d4798794cb",
      "metadata": {
        "id": "8071e4a9-1fcf-4f30-a1aa-52d4798794cb",
        "outputId": "768277b6-e8c4-444f-c442-ede30bf9cd1f",
        "colab": {
          "base_uri": "https://localhost:8080/"
        }
      },
      "outputs": [
        {
          "output_type": "stream",
          "name": "stdout",
          "text": [
            "\n",
            "Categorical Columns:\n",
            "Index(['Name'], dtype='object')\n"
          ]
        }
      ],
      "source": [
        "#Finding the categorical columns in dataset\n",
        "categorical_cols = df.select_dtypes(include=['object']).columns\n",
        "print(\"\\nCategorical Columns:\")\n",
        "print(categorical_cols)"
      ]
    },
    {
      "cell_type": "code",
      "execution_count": null,
      "id": "e7184738-c94e-4c01-8aba-e1b17a47bcc9",
      "metadata": {
        "id": "e7184738-c94e-4c01-8aba-e1b17a47bcc9",
        "outputId": "520f9424-fe30-42be-a2c8-f7ccd85911d7",
        "colab": {
          "base_uri": "https://localhost:8080/"
        }
      },
      "outputs": [
        {
          "output_type": "stream",
          "name": "stdout",
          "text": [
            "\n",
            "Dataset after Label Encoding:\n",
            "    Name         PRN  Roll No  Subject1 Marks  Subject2 Marks  Subject3 Marks  \\\n",
            "0      0  1032233101        1              71              76              81   \n",
            "1     11  1032233102        2              72              77              82   \n",
            "2     18  1032233103        3              73              78              83   \n",
            "3     19  1032233104        4              74              79              84   \n",
            "4     20  1032233105        5              75              80              85   \n",
            "5     21  1032233106        6              76              81              86   \n",
            "6     22  1032233107        7              77              82              87   \n",
            "7     23  1032233108        8              78              83              88   \n",
            "8     24  1032233109        9              79              84              89   \n",
            "9      1  1032233110       10              70              75              80   \n",
            "10     2  1032233111       11              71              76              81   \n",
            "11     3  1032233112       12              72              77              82   \n",
            "12     4  1032233113       13              73              78              83   \n",
            "13     5  1032233114       14              74              79              84   \n",
            "14     6  1032233115       15              75              80              85   \n",
            "15     7  1032233116       16              76              81              86   \n",
            "16     8  1032233117       17              77              82              87   \n",
            "17     9  1032233118       18              78              83              88   \n",
            "18    10  1032233119       19              79              84              89   \n",
            "19    12  1032233120       20              70              75              80   \n",
            "20    13  1032233121       21              71              76              81   \n",
            "21    14  1032233122       22              72              77              82   \n",
            "22    15  1032233123       23              73              78              83   \n",
            "23    16  1032233124       24              74              79              84   \n",
            "24    17  1032233125       25              75              80              85   \n",
            "\n",
            "    Subject4 Marks  Total Marks  \n",
            "0               86          314  \n",
            "1               87          318  \n",
            "2               88          322  \n",
            "3               89          326  \n",
            "4               90          330  \n",
            "5               91          334  \n",
            "6               92          338  \n",
            "7               93          342  \n",
            "8               94          346  \n",
            "9               85          310  \n",
            "10              86          314  \n",
            "11              87          318  \n",
            "12              88          322  \n",
            "13              89          326  \n",
            "14              90          330  \n",
            "15              91          334  \n",
            "16              92          338  \n",
            "17              93          342  \n",
            "18              94          346  \n",
            "19              85          310  \n",
            "20              86          314  \n",
            "21              87          318  \n",
            "22              88          322  \n",
            "23              89          326  \n",
            "24              90          330  \n"
          ]
        }
      ],
      "source": [
        "# Applying the Label Encoding\n",
        "label_encoded_df = df.copy()\n",
        "label_encoders = {}\n",
        "for col in categorical_cols:\n",
        "    le = LabelEncoder()\n",
        "    label_encoded_df[col] = le.fit_transform(label_encoded_df[col].astype(str))\n",
        "    label_encoders[col] = le\n",
        "\n",
        "print(\"\\nDataset after Label Encoding:\")\n",
        "print(label_encoded_df)"
      ]
    },
    {
      "cell_type": "code",
      "execution_count": null,
      "id": "57feaf90-d9b3-4221-809d-1ea8d7336b62",
      "metadata": {
        "id": "57feaf90-d9b3-4221-809d-1ea8d7336b62",
        "outputId": "d611518e-6789-49f2-d02e-62cfeee27feb",
        "colab": {
          "base_uri": "https://localhost:8080/"
        }
      },
      "outputs": [
        {
          "output_type": "stream",
          "name": "stdout",
          "text": [
            "\n",
            "Dataset after One-Hot Encoding:\n",
            "           PRN  Roll No  Subject1 Marks  Subject2 Marks  Subject3 Marks  \\\n",
            "0   1032233101        1              71              76              81   \n",
            "1   1032233102        2              72              77              82   \n",
            "2   1032233103        3              73              78              83   \n",
            "3   1032233104        4              74              79              84   \n",
            "4   1032233105        5              75              80              85   \n",
            "5   1032233106        6              76              81              86   \n",
            "6   1032233107        7              77              82              87   \n",
            "7   1032233108        8              78              83              88   \n",
            "8   1032233109        9              79              84              89   \n",
            "9   1032233110       10              70              75              80   \n",
            "10  1032233111       11              71              76              81   \n",
            "11  1032233112       12              72              77              82   \n",
            "12  1032233113       13              73              78              83   \n",
            "13  1032233114       14              74              79              84   \n",
            "14  1032233115       15              75              80              85   \n",
            "15  1032233116       16              76              81              86   \n",
            "16  1032233117       17              77              82              87   \n",
            "17  1032233118       18              78              83              88   \n",
            "18  1032233119       19              79              84              89   \n",
            "19  1032233120       20              70              75              80   \n",
            "20  1032233121       21              71              76              81   \n",
            "21  1032233122       22              72              77              82   \n",
            "22  1032233123       23              73              78              83   \n",
            "23  1032233124       24              74              79              84   \n",
            "24  1032233125       25              75              80              85   \n",
            "\n",
            "    Subject4 Marks  Total Marks  Name_Student 10  Name_Student 11  \\\n",
            "0               86          314            False            False   \n",
            "1               87          318            False            False   \n",
            "2               88          322            False            False   \n",
            "3               89          326            False            False   \n",
            "4               90          330            False            False   \n",
            "5               91          334            False            False   \n",
            "6               92          338            False            False   \n",
            "7               93          342            False            False   \n",
            "8               94          346            False            False   \n",
            "9               85          310             True            False   \n",
            "10              86          314            False             True   \n",
            "11              87          318            False            False   \n",
            "12              88          322            False            False   \n",
            "13              89          326            False            False   \n",
            "14              90          330            False            False   \n",
            "15              91          334            False            False   \n",
            "16              92          338            False            False   \n",
            "17              93          342            False            False   \n",
            "18              94          346            False            False   \n",
            "19              85          310            False            False   \n",
            "20              86          314            False            False   \n",
            "21              87          318            False            False   \n",
            "22              88          322            False            False   \n",
            "23              89          326            False            False   \n",
            "24              90          330            False            False   \n",
            "\n",
            "    Name_Student 12  ...  Name_Student 23  Name_Student 24  Name_Student 25  \\\n",
            "0             False  ...            False            False            False   \n",
            "1             False  ...            False            False            False   \n",
            "2             False  ...            False            False            False   \n",
            "3             False  ...            False            False            False   \n",
            "4             False  ...            False            False            False   \n",
            "5             False  ...            False            False            False   \n",
            "6             False  ...            False            False            False   \n",
            "7             False  ...            False            False            False   \n",
            "8             False  ...            False            False            False   \n",
            "9             False  ...            False            False            False   \n",
            "10            False  ...            False            False            False   \n",
            "11             True  ...            False            False            False   \n",
            "12            False  ...            False            False            False   \n",
            "13            False  ...            False            False            False   \n",
            "14            False  ...            False            False            False   \n",
            "15            False  ...            False            False            False   \n",
            "16            False  ...            False            False            False   \n",
            "17            False  ...            False            False            False   \n",
            "18            False  ...            False            False            False   \n",
            "19            False  ...            False            False            False   \n",
            "20            False  ...            False            False            False   \n",
            "21            False  ...            False            False            False   \n",
            "22            False  ...             True            False            False   \n",
            "23            False  ...            False             True            False   \n",
            "24            False  ...            False            False             True   \n",
            "\n",
            "    Name_Student 3  Name_Student 4  Name_Student 5  Name_Student 6  \\\n",
            "0            False           False           False           False   \n",
            "1            False           False           False           False   \n",
            "2             True           False           False           False   \n",
            "3            False            True           False           False   \n",
            "4            False           False            True           False   \n",
            "5            False           False           False            True   \n",
            "6            False           False           False           False   \n",
            "7            False           False           False           False   \n",
            "8            False           False           False           False   \n",
            "9            False           False           False           False   \n",
            "10           False           False           False           False   \n",
            "11           False           False           False           False   \n",
            "12           False           False           False           False   \n",
            "13           False           False           False           False   \n",
            "14           False           False           False           False   \n",
            "15           False           False           False           False   \n",
            "16           False           False           False           False   \n",
            "17           False           False           False           False   \n",
            "18           False           False           False           False   \n",
            "19           False           False           False           False   \n",
            "20           False           False           False           False   \n",
            "21           False           False           False           False   \n",
            "22           False           False           False           False   \n",
            "23           False           False           False           False   \n",
            "24           False           False           False           False   \n",
            "\n",
            "    Name_Student 7  Name_Student 8  Name_Student 9  \n",
            "0            False           False           False  \n",
            "1            False           False           False  \n",
            "2            False           False           False  \n",
            "3            False           False           False  \n",
            "4            False           False           False  \n",
            "5            False           False           False  \n",
            "6             True           False           False  \n",
            "7            False            True           False  \n",
            "8            False           False            True  \n",
            "9            False           False           False  \n",
            "10           False           False           False  \n",
            "11           False           False           False  \n",
            "12           False           False           False  \n",
            "13           False           False           False  \n",
            "14           False           False           False  \n",
            "15           False           False           False  \n",
            "16           False           False           False  \n",
            "17           False           False           False  \n",
            "18           False           False           False  \n",
            "19           False           False           False  \n",
            "20           False           False           False  \n",
            "21           False           False           False  \n",
            "22           False           False           False  \n",
            "23           False           False           False  \n",
            "24           False           False           False  \n",
            "\n",
            "[25 rows x 31 columns]\n"
          ]
        }
      ],
      "source": [
        "# Applying the one hot encoding\n",
        "one_hot_encoded_df = pd.get_dummies(df, columns=categorical_cols, drop_first=True)\n",
        "\n",
        "print(\"\\nDataset after One-Hot Encoding:\")\n",
        "print(one_hot_encoded_df)"
      ]
    },
    {
      "cell_type": "code",
      "execution_count": null,
      "id": "9c6b03d6-9856-4541-9db4-cb2f3f21afb0",
      "metadata": {
        "id": "9c6b03d6-9856-4541-9db4-cb2f3f21afb0",
        "outputId": "8a868013-de70-4bc0-8127-663644038454",
        "colab": {
          "base_uri": "https://localhost:8080/"
        }
      },
      "outputs": [
        {
          "output_type": "stream",
          "name": "stdout",
          "text": [
            "\n",
            "Data Description Table:\n",
            "                   Column Name Data Type  Unique Values Count  \\\n",
            "Name                      Name    object                   25   \n",
            "PRN                        PRN     int64                   25   \n",
            "Roll No                Roll No     int64                   25   \n",
            "Subject1 Marks  Subject1 Marks     int64                   10   \n",
            "Subject2 Marks  Subject2 Marks     int64                   10   \n",
            "Subject3 Marks  Subject3 Marks     int64                   10   \n",
            "Subject4 Marks  Subject4 Marks     int64                   10   \n",
            "Total Marks        Total Marks     int64                   10   \n",
            "\n",
            "                Missing Values Count  \\\n",
            "Name                               0   \n",
            "PRN                                0   \n",
            "Roll No                            0   \n",
            "Subject1 Marks                     0   \n",
            "Subject2 Marks                     0   \n",
            "Subject3 Marks                     0   \n",
            "Subject4 Marks                     0   \n",
            "Total Marks                        0   \n",
            "\n",
            "                                                    Sample Values  \n",
            "Name            [Student 1, Student 2, Student 3, Student 4, S...  \n",
            "PRN             [1032233101, 1032233102, 1032233103, 103223310...  \n",
            "Roll No                                           [1, 2, 3, 4, 5]  \n",
            "Subject1 Marks                               [71, 72, 73, 74, 75]  \n",
            "Subject2 Marks                               [76, 77, 78, 79, 80]  \n",
            "Subject3 Marks                               [81, 82, 83, 84, 85]  \n",
            "Subject4 Marks                               [86, 87, 88, 89, 90]  \n",
            "Total Marks                             [314, 318, 322, 326, 330]  \n"
          ]
        }
      ],
      "source": [
        "description_table = pd.DataFrame({\n",
        "    \"Column Name\": df.columns,\n",
        "    \"Data Type\": df.dtypes,\n",
        "    \"Unique Values Count\": df.nunique(),\n",
        "    \"Missing Values Count\": df.isnull().sum(),\n",
        "    \"Sample Values\": [df[col].unique()[:5] for col in df.columns]\n",
        "})\n",
        "\n",
        "# Display the description table\n",
        "print(\"\\nData Description Table:\")\n",
        "print(description_table)"
      ]
    }
  ],
  "metadata": {
    "kernelspec": {
      "display_name": "Python 3 (ipykernel)",
      "language": "python",
      "name": "python3"
    },
    "language_info": {
      "codemirror_mode": {
        "name": "ipython",
        "version": 3
      },
      "file_extension": ".py",
      "mimetype": "text/x-python",
      "name": "python",
      "nbconvert_exporter": "python",
      "pygments_lexer": "ipython3",
      "version": "3.12.4"
    },
    "colab": {
      "provenance": []
    }
  },
  "nbformat": 4,
  "nbformat_minor": 5
}